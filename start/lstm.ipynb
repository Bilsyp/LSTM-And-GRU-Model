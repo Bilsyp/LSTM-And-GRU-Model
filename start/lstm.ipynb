{
 "cells": [
  {
   "cell_type": "markdown",
   "metadata": {},
   "source": [
    "# Microsoft Stock- Time Series Analysis"
   ]
  },
  {
   "cell_type": "markdown",
   "metadata": {},
   "source": [
    "# About Dataset\n",
    "\n",
    "### Context\n",
    "This file contains the stock information of Microsoft from 04/01/2015 to 04/01/2021\n",
    "\n",
    "### Content\n",
    "This data was acquired in google sheets using the command 'GOOGLEFINANCE'\n",
    "\n",
    "### Inspiration\n",
    "With this data you can do basic EDA and use predictive analysis."
   ]
  },
  {
   "cell_type": "markdown",
   "metadata": {},
   "source": [
    "## column :\n",
    " - Open (Opening price): float\n",
    " - High (Highest value of the day) : float \n",
    " - Low (Lowest value of the day) : float\n",
    " - Close (Closing price) : float\n",
    " - Volume (Number of shares traded on that day) int"
   ]
  },
  {
   "cell_type": "code",
   "execution_count": null,
   "metadata": {},
   "outputs": [],
   "source": []
  }
 ],
 "metadata": {
  "language_info": {
   "name": "python"
  }
 },
 "nbformat": 4,
 "nbformat_minor": 2
}
