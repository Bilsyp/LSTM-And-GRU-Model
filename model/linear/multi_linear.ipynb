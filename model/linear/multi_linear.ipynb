{
 "cells": [
  {
   "cell_type": "markdown",
   "metadata": {},
   "source": [
    "# Sample Dataset"
   ]
  },
  {
   "cell_type": "markdown",
   "metadata": {},
   "source": [
    "Training Dataset"
   ]
  },
  {
   "cell_type": "code",
   "execution_count": 175,
   "metadata": {},
   "outputs": [
    {
     "ename": "SyntaxError",
     "evalue": "invalid syntax (2517436322.py, line 3)",
     "output_type": "error",
     "traceback": [
      "\u001b[1;36m  Cell \u001b[1;32mIn[175], line 3\u001b[1;36m\u001b[0m\n\u001b[1;33m    import sklearn.metrics import\u001b[0m\n\u001b[1;37m                           ^\u001b[0m\n\u001b[1;31mSyntaxError\u001b[0m\u001b[1;31m:\u001b[0m invalid syntax\n"
     ]
    }
   ],
   "source": [
    "import pandas as pd\n",
    "import numpy as np\n",
    "import sklearn.metrics import \n",
    "pizza = {\n",
    "    \"diameter\":[6,8,10,14,18],\n",
    "    \"n_topping\":[2,1,0,2,0],\n",
    "    \"harga\":[7,9,13,17.5,18]\n",
    "}\n",
    "train_pizza_df = pd.DataFrame(pizza)\n",
    "train_pizza_df"
   ]
  },
  {
   "cell_type": "markdown",
   "metadata": {},
   "source": [
    "Testing Dataset"
   ]
  },
  {
   "cell_type": "code",
   "execution_count": null,
   "metadata": {},
   "outputs": [],
   "source": []
  },
  {
   "cell_type": "code",
   "execution_count": null,
   "metadata": {},
   "outputs": [],
   "source": []
  },
  {
   "cell_type": "code",
   "execution_count": null,
   "metadata": {},
   "outputs": [],
   "source": [
    "pizza = {\n",
    "    \"diameter\":[8,9,11,16,12],\n",
    "    \"n_topping\":[2,0,2,2,0],\n",
    "    \"harga\":[11,8.5,15,18,11]\n",
    "}  \n",
    "df = pd.DataFrame(data=pizza)\n"
   ]
  },
  {
   "cell_type": "code",
   "execution_count": null,
   "metadata": {},
   "outputs": [],
   "source": [
    "X_train = np.array(train_pizza_df[[\"diameter\",\"n_topping\"]])\n",
    "y_train = np.array(train_pizza_df[\"harga\"])\n",
    "\n",
    "X_test = np.array(df[[\"diameter\",\"n_topping\"]])\n",
    "y_test = np.array(df[\"harga\"])\n",
    "\n"
   ]
  },
  {
   "cell_type": "code",
   "execution_count": null,
   "metadata": {},
   "outputs": [],
   "source": [
    "from sklearn.linear_model import LinearRegression\n",
    "from sklearn.metrics import r2_score\n",
    "\n",
    "model = LinearRegression()\n",
    "model.fit(X_train,y_train)\n",
    "\n"
   ]
  },
  {
   "cell_type": "code",
   "execution_count": null,
   "metadata": {},
   "outputs": [],
   "source": [
    "y_pred = model.predict(X_test)\n",
    "r2 = r2_score(y_pred,y_test)"
   ]
  },
  {
   "cell_type": "code",
   "execution_count": null,
   "metadata": {},
   "outputs": [],
   "source": [
    "import matplotlib.pyplot as plt\n",
    "\n",
    "plt.figure(figsize=(8, 6))\n",
    "plt.scatter(y_test, y_pred, color='blue', label='Actual vs Predicted')\n",
    "plt.plot([y_test.min(), y_test.max()], [y_test.min(), y_test.max()], color='red', linestyle='--', label='Perfect Prediction')\n",
    "plt.xlabel('Actual Harga')\n",
    "plt.ylabel('Predicted Harga')\n",
    "plt.title('Actual vs Predicted Harga')\n",
    "plt.legend()\n",
    "plt.show()"
   ]
  },
  {
   "cell_type": "markdown",
   "metadata": {},
   "source": [
    "\n",
    "# **Polynomial regression**"
   ]
  },
  {
   "cell_type": "markdown",
   "metadata": {},
   "source": [
    "polynomial Regression memodelkan hubungan antara independent(features) variable x dan dependent(target) y sebagai derajat polynomial dalam x"
   ]
  },
  {
   "cell_type": "code",
   "execution_count": null,
   "metadata": {},
   "outputs": [],
   "source": [
    "x_train = np.array(train_pizza_df[\"diameter\"]).reshape(-1,1)\n",
    "y_train = np.array(train_pizza_df[\"harga\"])\n",
    "\n",
    "print(f\"x_train\\n{x_train}\\n\")\n",
    "print(f\"y_train\\n{y_train}\\n\")\n",
    "\n"
   ]
  },
  {
   "cell_type": "code",
   "execution_count": null,
   "metadata": {},
   "outputs": [],
   "source": [
    "from sklearn.preprocessing import PolynomialFeatures\n",
    "\n",
    "quadratic_features = PolynomialFeatures(degree=2)\n",
    "x_train_quadratic = quadratic_features.fit_transform(x_train)\n",
    "\n",
    "print(f\"X_train_quadratic:\\n{x_train_quadratic}\")\n"
   ]
  },
  {
   "cell_type": "markdown",
   "metadata": {},
   "source": [
    "# **Training Model**"
   ]
  },
  {
   "cell_type": "code",
   "execution_count": null,
   "metadata": {},
   "outputs": [],
   "source": [
    "model  = LinearRegression()\n",
    "model.fit(x_train_quadratic,y_train)"
   ]
  },
  {
   "cell_type": "code",
   "execution_count": null,
   "metadata": {},
   "outputs": [],
   "source": [
    "X_vis = np.linspace(0,25,100).reshape(-1,1)\n",
    "X_vis_quadratic = quadratic_features.transform(X_vis)\n",
    "y_vis_quadratic = model.predict(X_vis_quadratic)\n",
    "print(y_vis_quadratic)\n",
    "plt.scatter(x_train,y_train)\n",
    "plt.plot(X_vis,y_vis_quadratic,'-r')\n",
    "\n",
    "plt.title(\"Perbandingan Diameter dan Harga Pizza\")\n",
    "plt.xlabel(\"Diameter\")\n",
    "plt.ylabel(\"Harga\")\n",
    "plt.xlim(0,25)\n",
    "plt.ylim(0,25)\n",
    "plt.grid(True)\n",
    "plt.show()\n"
   ]
  },
  {
   "cell_type": "code",
   "execution_count": null,
   "metadata": {},
   "outputs": [],
   "source": [
    "df = pd.read_csv(\"../../data/netflix_titles.csv\")\n",
    "df_cleaned = df.dropna()\n",
    "\n",
    "features = np.array(df_cleaned[[\"rating\",\"type\"]])\n",
    "target = np.array(df_cleaned[\"title\"])"
   ]
  },
  {
   "cell_type": "code",
   "execution_count": null,
   "metadata": {},
   "outputs": [],
   "source": [
    "from sklearn.preprocessing import OneHotEncoder\n",
    "from sklearn.neighbors import KNeighborsClassifier\n",
    "data = {'item': ['laptop', 'monitor', 'HDMI', 'speaker'],\n",
    "        'cost': [500, 300, 700, 600]\n",
    "       }\n",
    "df = pd.DataFrame(data)\n",
    "\n",
    "target = np.array(df[\"cost\"])\n",
    "features = np.array(df[\"item\"]).reshape(-1,1)\n",
    "\n",
    "oneHot_encode = OneHotEncoder()\n",
    "X_train = oneHot_encode.fit_transform(features).toarray()\n",
    "\n",
    "print(f'X_train : \\n{X_train}\\n')\n",
    "target\n"
   ]
  },
  {
   "cell_type": "code",
   "execution_count": null,
   "metadata": {},
   "outputs": [],
   "source": [
    "model = KNeighborsClassifier(n_neighbors=3)\n",
    "model.fit(x_train,target)"
   ]
  }
 ],
 "metadata": {
  "kernelspec": {
   "display_name": ".venv",
   "language": "python",
   "name": "python3"
  },
  "language_info": {
   "codemirror_mode": {
    "name": "ipython",
    "version": 3
   },
   "file_extension": ".py",
   "mimetype": "text/x-python",
   "name": "python",
   "nbconvert_exporter": "python",
   "pygments_lexer": "ipython3",
   "version": "3.12.4"
  }
 },
 "nbformat": 4,
 "nbformat_minor": 2
}
